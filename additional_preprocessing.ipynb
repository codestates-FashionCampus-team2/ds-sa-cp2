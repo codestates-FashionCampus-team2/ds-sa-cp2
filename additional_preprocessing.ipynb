{
  "nbformat": 4,
  "nbformat_minor": 0,
  "metadata": {
    "colab": {
      "provenance": [],
      "toc_visible": true,
      "authorship_tag": "ABX9TyPXPQbhA+GR/J7U+jOjgV8T",
      "include_colab_link": true
    },
    "kernelspec": {
      "name": "python3",
      "display_name": "Python 3"
    },
    "language_info": {
      "name": "python"
    }
  },
  "cells": [
    {
      "cell_type": "markdown",
      "metadata": {
        "id": "view-in-github",
        "colab_type": "text"
      },
      "source": [
        "<a href=\"https://colab.research.google.com/github/donghwi2022/ds-sa-cp2-phase2/blob/%EC%8B%A0%EB%8F%99%ED%9C%98/additional_preprocessing.ipynb\" target=\"_parent\"><img src=\"https://colab.research.google.com/assets/colab-badge.svg\" alt=\"Open In Colab\"/></a>"
      ]
    },
    {
      "cell_type": "markdown",
      "source": [
        "# 1. 필요 라이브러리 import"
      ],
      "metadata": {
        "id": "HnpMJsuxgDC0"
      }
    },
    {
      "cell_type": "code",
      "execution_count": 1,
      "metadata": {
        "id": "4oAbfwUwNVF0"
      },
      "outputs": [],
      "source": [
        "import pandas as pd"
      ]
    },
    {
      "cell_type": "markdown",
      "source": [
        "# 2. 파일 load"
      ],
      "metadata": {
        "id": "0abRh6sngJT2"
      }
    },
    {
      "cell_type": "code",
      "source": [
        "from google.colab import drive\n",
        "drive.mount('/content/drive')"
      ],
      "metadata": {
        "colab": {
          "base_uri": "https://localhost:8080/"
        },
        "id": "mlqNGX8CNZz7",
        "outputId": "dd510461-7ce9-453c-9930-9137b1c2d382"
      },
      "execution_count": 2,
      "outputs": [
        {
          "output_type": "stream",
          "name": "stdout",
          "text": [
            "Mounted at /content/drive\n"
          ]
        }
      ]
    },
    {
      "cell_type": "code",
      "source": [
        "df = pd.read_csv(\"/content/drive/MyDrive/cp2_phase2_data/fashion_log.csv\", index_col=0)"
      ],
      "metadata": {
        "id": "qv7jhs_QNeu-"
      },
      "execution_count": 17,
      "outputs": []
    },
    {
      "cell_type": "markdown",
      "source": [
        "# 3. 추가 전처리 진행"
      ],
      "metadata": {
        "id": "M7TMh6iZgPB9"
      }
    },
    {
      "cell_type": "markdown",
      "source": [
        "## 1. Parquet(파케이)를 사용해서 파일 용량 줄이기"
      ],
      "metadata": {
        "id": "wle1ws4rgR1y"
      }
    },
    {
      "cell_type": "markdown",
      "source": [
        "### 1. 파케이를 사용하기 전 메모리 사용량"
      ],
      "metadata": {
        "id": "qtD3AapFhVn8"
      }
    },
    {
      "cell_type": "code",
      "source": [
        "df.info()"
      ],
      "metadata": {
        "colab": {
          "base_uri": "https://localhost:8080/"
        },
        "id": "7HQdDQeDOUB-",
        "outputId": "0c8b2432-343e-4841-a3fb-25f182db5e2d"
      },
      "execution_count": 18,
      "outputs": [
        {
          "output_type": "stream",
          "name": "stdout",
          "text": [
            "<class 'pandas.core.frame.DataFrame'>\n",
            "Int64Index: 1254585 entries, 0 to 1254584\n",
            "Data columns (total 33 columns):\n",
            " #   Column                  Non-Null Count    Dtype  \n",
            "---  ------                  --------------    -----  \n",
            " 0   created_at              1254585 non-null  object \n",
            " 1   customer_id             1254585 non-null  int64  \n",
            " 2   session_id              1254585 non-null  int64  \n",
            " 3   payment_method          1254585 non-null  object \n",
            " 4   payment_status          1254585 non-null  object \n",
            " 5   promo_amount            1254585 non-null  int64  \n",
            " 6   promo_code              481139 non-null   object \n",
            " 7   shipment_fee            1254585 non-null  int64  \n",
            " 8   shipment_date_limit     1254585 non-null  object \n",
            " 9   shipment_location_lat   1254585 non-null  float64\n",
            " 10  shipment_location_long  1254585 non-null  float64\n",
            " 11  total_amount            1254585 non-null  int64  \n",
            " 12  product_id              1254585 non-null  int64  \n",
            " 13  quantity                1254585 non-null  int64  \n",
            " 14  item_price              1254585 non-null  int64  \n",
            " 15  product_gender          1254585 non-null  object \n",
            " 16  masterCategory          1254585 non-null  object \n",
            " 17  subCategory             1254585 non-null  object \n",
            " 18  articleType             1254585 non-null  object \n",
            " 19  baseColor               1254178 non-null  object \n",
            " 20  season                  1253982 non-null  object \n",
            " 21  year                    1254557 non-null  float64\n",
            " 22  usage                   1245714 non-null  object \n",
            " 23  productDisplayName      1254412 non-null  object \n",
            " 24  customer_gender         1254585 non-null  object \n",
            " 25  birthdate               1254585 non-null  object \n",
            " 26  device_type             1254585 non-null  object \n",
            " 27  device_id               1254585 non-null  int64  \n",
            " 28  device_version          1254585 non-null  object \n",
            " 29  home_location_lat       1254585 non-null  float64\n",
            " 30  home_location_long      1254585 non-null  float64\n",
            " 31  home_location           1254585 non-null  object \n",
            " 32  first_join_date         1254585 non-null  object \n",
            "dtypes: float64(5), int64(9), object(19)\n",
            "memory usage: 325.4+ MB\n"
          ]
        }
      ]
    },
    {
      "cell_type": "code",
      "source": [
        "df.memory_usage()"
      ],
      "metadata": {
        "colab": {
          "base_uri": "https://localhost:8080/"
        },
        "id": "OZbDgU-WPhPm",
        "outputId": "a02971a1-f596-47d4-b822-fb3c011bd2ae"
      },
      "execution_count": 27,
      "outputs": [
        {
          "output_type": "execute_result",
          "data": {
            "text/plain": [
              "Index                     10036680\n",
              "created_at                10036680\n",
              "customer_id               10036680\n",
              "session_id                10036680\n",
              "payment_method            10036680\n",
              "payment_status            10036680\n",
              "promo_amount              10036680\n",
              "promo_code                10036680\n",
              "shipment_fee              10036680\n",
              "shipment_date_limit       10036680\n",
              "shipment_location_lat     10036680\n",
              "shipment_location_long    10036680\n",
              "total_amount              10036680\n",
              "product_id                10036680\n",
              "quantity                  10036680\n",
              "item_price                10036680\n",
              "product_gender            10036680\n",
              "masterCategory            10036680\n",
              "subCategory               10036680\n",
              "articleType               10036680\n",
              "baseColor                 10036680\n",
              "season                    10036680\n",
              "year                      10036680\n",
              "usage                     10036680\n",
              "productDisplayName        10036680\n",
              "customer_gender           10036680\n",
              "birthdate                 10036680\n",
              "device_type               10036680\n",
              "device_id                 10036680\n",
              "device_version            10036680\n",
              "home_location_lat         10036680\n",
              "home_location_long        10036680\n",
              "home_location             10036680\n",
              "first_join_date           10036680\n",
              "dtype: int64"
            ]
          },
          "metadata": {},
          "execution_count": 27
        }
      ]
    },
    {
      "cell_type": "markdown",
      "source": [
        "### 2. 파케이를 사용하여 데이터 저장 후 load해서 메모리 사용량 비교"
      ],
      "metadata": {
        "id": "oyw17Id2icAV"
      }
    },
    {
      "cell_type": "code",
      "source": [
        "df.to_parquet(\"df.parquet.gzip\")"
      ],
      "metadata": {
        "id": "UzpEdDizNnhw"
      },
      "execution_count": 4,
      "outputs": []
    },
    {
      "cell_type": "code",
      "source": [
        "df_2 = pd.read_parquet(\"/content/df.parquet.gzip\")"
      ],
      "metadata": {
        "id": "8K5068PTOMQY"
      },
      "execution_count": 5,
      "outputs": []
    },
    {
      "cell_type": "code",
      "source": [
        "df_2.info()"
      ],
      "metadata": {
        "colab": {
          "base_uri": "https://localhost:8080/"
        },
        "id": "zDGgpiF0OWqM",
        "outputId": "57d63965-465d-4093-b424-58165ba4db9f"
      },
      "execution_count": 7,
      "outputs": [
        {
          "output_type": "stream",
          "name": "stdout",
          "text": [
            "<class 'pandas.core.frame.DataFrame'>\n",
            "Int64Index: 1254585 entries, 0 to 1254584\n",
            "Data columns (total 33 columns):\n",
            " #   Column                  Non-Null Count    Dtype  \n",
            "---  ------                  --------------    -----  \n",
            " 0   created_at              1254585 non-null  object \n",
            " 1   customer_id             1254585 non-null  int64  \n",
            " 2   session_id              1254585 non-null  int64  \n",
            " 3   payment_method          1254585 non-null  object \n",
            " 4   payment_status          1254585 non-null  object \n",
            " 5   promo_amount            1254585 non-null  int64  \n",
            " 6   promo_code              481139 non-null   object \n",
            " 7   shipment_fee            1254585 non-null  int64  \n",
            " 8   shipment_date_limit     1254585 non-null  object \n",
            " 9   shipment_location_lat   1254585 non-null  float64\n",
            " 10  shipment_location_long  1254585 non-null  float64\n",
            " 11  total_amount            1254585 non-null  int64  \n",
            " 12  product_id              1254585 non-null  int64  \n",
            " 13  quantity                1254585 non-null  int64  \n",
            " 14  item_price              1254585 non-null  int64  \n",
            " 15  product_gender          1254585 non-null  object \n",
            " 16  masterCategory          1254585 non-null  object \n",
            " 17  subCategory             1254585 non-null  object \n",
            " 18  articleType             1254585 non-null  object \n",
            " 19  baseColor               1254178 non-null  object \n",
            " 20  season                  1253982 non-null  object \n",
            " 21  year                    1254557 non-null  float64\n",
            " 22  usage                   1245714 non-null  object \n",
            " 23  productDisplayName      1254412 non-null  object \n",
            " 24  customer_gender         1254585 non-null  object \n",
            " 25  birthdate               1254585 non-null  object \n",
            " 26  device_type             1254585 non-null  object \n",
            " 27  device_id               1254585 non-null  int64  \n",
            " 28  device_version          1254585 non-null  object \n",
            " 29  home_location_lat       1254585 non-null  float64\n",
            " 30  home_location_long      1254585 non-null  float64\n",
            " 31  home_location           1254585 non-null  object \n",
            " 32  first_join_date         1254585 non-null  object \n",
            "dtypes: float64(5), int64(9), object(19)\n",
            "memory usage: 325.4+ MB\n"
          ]
        }
      ]
    },
    {
      "cell_type": "code",
      "source": [
        "df_2.memory_usage()"
      ],
      "metadata": {
        "colab": {
          "base_uri": "https://localhost:8080/"
        },
        "id": "dYSyQTsuPgTr",
        "outputId": "f67f4858-e217-47fa-b0c7-713b258c208f"
      },
      "execution_count": 9,
      "outputs": [
        {
          "output_type": "execute_result",
          "data": {
            "text/plain": [
              "Index                     10036680\n",
              "created_at                10036680\n",
              "customer_id               10036680\n",
              "session_id                10036680\n",
              "payment_method            10036680\n",
              "payment_status            10036680\n",
              "promo_amount              10036680\n",
              "promo_code                10036680\n",
              "shipment_fee              10036680\n",
              "shipment_date_limit       10036680\n",
              "shipment_location_lat     10036680\n",
              "shipment_location_long    10036680\n",
              "total_amount              10036680\n",
              "product_id                10036680\n",
              "quantity                  10036680\n",
              "item_price                10036680\n",
              "product_gender            10036680\n",
              "masterCategory            10036680\n",
              "subCategory               10036680\n",
              "articleType               10036680\n",
              "baseColor                 10036680\n",
              "season                    10036680\n",
              "year                      10036680\n",
              "usage                     10036680\n",
              "productDisplayName        10036680\n",
              "customer_gender           10036680\n",
              "birthdate                 10036680\n",
              "device_type               10036680\n",
              "device_id                 10036680\n",
              "device_version            10036680\n",
              "home_location_lat         10036680\n",
              "home_location_long        10036680\n",
              "home_location             10036680\n",
              "first_join_date           10036680\n",
              "dtype: int64"
            ]
          },
          "metadata": {},
          "execution_count": 9
        }
      ]
    },
    {
      "cell_type": "markdown",
      "source": [
        "### 3. 결론\n",
        ": 파케이를 사용해서 파일 용량을 줄일 순 있으나 colab에서 데이터를 load할 때 차지하는 메모리는 변화가 없어 데이터에 대한 전처리가 필요"
      ],
      "metadata": {
        "id": "dxerS4kBinlf"
      }
    },
    {
      "cell_type": "markdown",
      "source": [
        "## 2. 데이터에 대한 추가 전처리 진행"
      ],
      "metadata": {
        "id": "1ToEL-lQjD1z"
      }
    }
  ]
}